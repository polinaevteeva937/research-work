{
 "cells": [
  {
   "cell_type": "code",
   "execution_count": 1,
   "id": "b8503b77",
   "metadata": {},
   "outputs": [],
   "source": [
    "import numpy as np \n",
    "import pandas as pd \n",
    "import matplotlib.pyplot as plt \n",
    "import seaborn as sns "
   ]
  },
  {
   "cell_type": "code",
   "execution_count": 2,
   "id": "b61992f1",
   "metadata": {},
   "outputs": [],
   "source": [
    "import pandas\n",
    "data = pandas.read_csv('C:\\\\Users\\\\brofr\\\\Desktop\\\\МИРЭА\\\\НИР\\\\crime.csv')"
   ]
  },
  {
   "cell_type": "code",
   "execution_count": 3,
   "id": "f48b0bcd",
   "metadata": {},
   "outputs": [
    {
     "data": {
      "text/plain": [
       "(486886, 19)"
      ]
     },
     "execution_count": 3,
     "metadata": {},
     "output_type": "execute_result"
    }
   ],
   "source": [
    "data.shape\n",
    "#Датасет содержит 486886 строк (объектов) и 19 столбцов (признаков)."
   ]
  },
  {
   "cell_type": "markdown",
   "id": "eb7e168d",
   "metadata": {},
   "source": [
    "#1.Содержит 486886 строк (объектов) и 19 столбцов (признаков).\n"
   ]
  },
  {
   "cell_type": "code",
   "execution_count": 4,
   "id": "382c691b",
   "metadata": {},
   "outputs": [
    {
     "data": {
      "text/html": [
       "<div>\n",
       "<style scoped>\n",
       "    .dataframe tbody tr th:only-of-type {\n",
       "        vertical-align: middle;\n",
       "    }\n",
       "\n",
       "    .dataframe tbody tr th {\n",
       "        vertical-align: top;\n",
       "    }\n",
       "\n",
       "    .dataframe thead th {\n",
       "        text-align: right;\n",
       "    }\n",
       "</style>\n",
       "<table border=\"1\" class=\"dataframe\">\n",
       "  <thead>\n",
       "    <tr style=\"text-align: right;\">\n",
       "      <th></th>\n",
       "      <th>incident_id</th>\n",
       "      <th>offense_id</th>\n",
       "      <th>OFFENSE_CODE</th>\n",
       "      <th>OFFENSE_CODE_EXTENSION</th>\n",
       "      <th>OFFENSE_TYPE_ID</th>\n",
       "      <th>OFFENSE_CATEGORY_ID</th>\n",
       "      <th>FIRST_OCCURRENCE_DATE</th>\n",
       "      <th>LAST_OCCURRENCE_DATE</th>\n",
       "      <th>REPORTED_DATE</th>\n",
       "      <th>INCIDENT_ADDRESS</th>\n",
       "      <th>GEO_X</th>\n",
       "      <th>GEO_Y</th>\n",
       "      <th>GEO_LON</th>\n",
       "      <th>GEO_LAT</th>\n",
       "      <th>DISTRICT_ID</th>\n",
       "      <th>PRECINCT_ID</th>\n",
       "      <th>NEIGHBORHOOD_ID</th>\n",
       "      <th>IS_CRIME</th>\n",
       "      <th>IS_TRAFFIC</th>\n",
       "    </tr>\n",
       "  </thead>\n",
       "  <tbody>\n",
       "    <tr>\n",
       "      <th>0</th>\n",
       "      <td>20226000193</td>\n",
       "      <td>20226000193299900</td>\n",
       "      <td>2999</td>\n",
       "      <td>0</td>\n",
       "      <td>criminal-mischief-other</td>\n",
       "      <td>public-disorder</td>\n",
       "      <td>1/4/2022 11:30:00 AM</td>\n",
       "      <td>1/4/2022 12:00:00 PM</td>\n",
       "      <td>1/4/2022 8:36:00 PM</td>\n",
       "      <td>128 S CANOSA CT                               ...</td>\n",
       "      <td>3135366.0</td>\n",
       "      <td>1685410.0</td>\n",
       "      <td>-105.018825</td>\n",
       "      <td>39.714268</td>\n",
       "      <td>4.0</td>\n",
       "      <td>411.0</td>\n",
       "      <td>valverde</td>\n",
       "      <td>1</td>\n",
       "      <td>0</td>\n",
       "    </tr>\n",
       "    <tr>\n",
       "      <th>1</th>\n",
       "      <td>20223319</td>\n",
       "      <td>20223319299900</td>\n",
       "      <td>2999</td>\n",
       "      <td>0</td>\n",
       "      <td>criminal-mischief-other</td>\n",
       "      <td>public-disorder</td>\n",
       "      <td>1/3/2022 6:45:00 AM</td>\n",
       "      <td>NaN</td>\n",
       "      <td>1/3/2022 11:01:00 AM</td>\n",
       "      <td>650 15TH ST                                   ...</td>\n",
       "      <td>3142454.0</td>\n",
       "      <td>1696151.0</td>\n",
       "      <td>-104.993418</td>\n",
       "      <td>39.743649</td>\n",
       "      <td>6.0</td>\n",
       "      <td>611.0</td>\n",
       "      <td>cbd</td>\n",
       "      <td>1</td>\n",
       "      <td>0</td>\n",
       "    </tr>\n",
       "    <tr>\n",
       "      <th>2</th>\n",
       "      <td>20223093</td>\n",
       "      <td>20223093299900</td>\n",
       "      <td>2999</td>\n",
       "      <td>0</td>\n",
       "      <td>criminal-mischief-other</td>\n",
       "      <td>public-disorder</td>\n",
       "      <td>1/3/2022 1:00:00 AM</td>\n",
       "      <td>NaN</td>\n",
       "      <td>1/3/2022 6:11:00 AM</td>\n",
       "      <td>919 E COLFAX AVE                              ...</td>\n",
       "      <td>3147484.0</td>\n",
       "      <td>1694898.0</td>\n",
       "      <td>-104.975557</td>\n",
       "      <td>39.740130</td>\n",
       "      <td>6.0</td>\n",
       "      <td>621.0</td>\n",
       "      <td>north-capitol-hill</td>\n",
       "      <td>1</td>\n",
       "      <td>0</td>\n",
       "    </tr>\n",
       "    <tr>\n",
       "      <th>3</th>\n",
       "      <td>20224000</td>\n",
       "      <td>20224000299900</td>\n",
       "      <td>2999</td>\n",
       "      <td>0</td>\n",
       "      <td>criminal-mischief-other</td>\n",
       "      <td>public-disorder</td>\n",
       "      <td>1/3/2022 7:47:00 PM</td>\n",
       "      <td>NaN</td>\n",
       "      <td>1/3/2022 9:12:00 PM</td>\n",
       "      <td>2345 W ALAMEDA AVE                            ...</td>\n",
       "      <td>3136478.0</td>\n",
       "      <td>1684414.0</td>\n",
       "      <td>-105.014892</td>\n",
       "      <td>39.711518</td>\n",
       "      <td>4.0</td>\n",
       "      <td>411.0</td>\n",
       "      <td>valverde</td>\n",
       "      <td>1</td>\n",
       "      <td>0</td>\n",
       "    </tr>\n",
       "    <tr>\n",
       "      <th>4</th>\n",
       "      <td>20223956</td>\n",
       "      <td>20223956299900</td>\n",
       "      <td>2999</td>\n",
       "      <td>0</td>\n",
       "      <td>criminal-mischief-other</td>\n",
       "      <td>public-disorder</td>\n",
       "      <td>1/3/2022 5:06:00 PM</td>\n",
       "      <td>NaN</td>\n",
       "      <td>1/3/2022 8:31:00 PM</td>\n",
       "      <td>7800 E SMITH RD                               ...</td>\n",
       "      <td>3169237.0</td>\n",
       "      <td>1705800.0</td>\n",
       "      <td>-104.897950</td>\n",
       "      <td>39.769688</td>\n",
       "      <td>5.0</td>\n",
       "      <td>512.0</td>\n",
       "      <td>central-park</td>\n",
       "      <td>1</td>\n",
       "      <td>0</td>\n",
       "    </tr>\n",
       "  </tbody>\n",
       "</table>\n",
       "</div>"
      ],
      "text/plain": [
       "   incident_id         offense_id  OFFENSE_CODE  OFFENSE_CODE_EXTENSION  \\\n",
       "0  20226000193  20226000193299900          2999                       0   \n",
       "1     20223319     20223319299900          2999                       0   \n",
       "2     20223093     20223093299900          2999                       0   \n",
       "3     20224000     20224000299900          2999                       0   \n",
       "4     20223956     20223956299900          2999                       0   \n",
       "\n",
       "           OFFENSE_TYPE_ID OFFENSE_CATEGORY_ID FIRST_OCCURRENCE_DATE  \\\n",
       "0  criminal-mischief-other     public-disorder  1/4/2022 11:30:00 AM   \n",
       "1  criminal-mischief-other     public-disorder   1/3/2022 6:45:00 AM   \n",
       "2  criminal-mischief-other     public-disorder   1/3/2022 1:00:00 AM   \n",
       "3  criminal-mischief-other     public-disorder   1/3/2022 7:47:00 PM   \n",
       "4  criminal-mischief-other     public-disorder   1/3/2022 5:06:00 PM   \n",
       "\n",
       "   LAST_OCCURRENCE_DATE         REPORTED_DATE  \\\n",
       "0  1/4/2022 12:00:00 PM   1/4/2022 8:36:00 PM   \n",
       "1                   NaN  1/3/2022 11:01:00 AM   \n",
       "2                   NaN   1/3/2022 6:11:00 AM   \n",
       "3                   NaN   1/3/2022 9:12:00 PM   \n",
       "4                   NaN   1/3/2022 8:31:00 PM   \n",
       "\n",
       "                                    INCIDENT_ADDRESS      GEO_X      GEO_Y  \\\n",
       "0  128 S CANOSA CT                               ...  3135366.0  1685410.0   \n",
       "1  650 15TH ST                                   ...  3142454.0  1696151.0   \n",
       "2  919 E COLFAX AVE                              ...  3147484.0  1694898.0   \n",
       "3  2345 W ALAMEDA AVE                            ...  3136478.0  1684414.0   \n",
       "4  7800 E SMITH RD                               ...  3169237.0  1705800.0   \n",
       "\n",
       "      GEO_LON    GEO_LAT  DISTRICT_ID  PRECINCT_ID     NEIGHBORHOOD_ID  \\\n",
       "0 -105.018825  39.714268          4.0        411.0            valverde   \n",
       "1 -104.993418  39.743649          6.0        611.0                 cbd   \n",
       "2 -104.975557  39.740130          6.0        621.0  north-capitol-hill   \n",
       "3 -105.014892  39.711518          4.0        411.0            valverde   \n",
       "4 -104.897950  39.769688          5.0        512.0        central-park   \n",
       "\n",
       "   IS_CRIME  IS_TRAFFIC  \n",
       "0         1           0  \n",
       "1         1           0  \n",
       "2         1           0  \n",
       "3         1           0  \n",
       "4         1           0  "
      ]
     },
     "execution_count": 4,
     "metadata": {},
     "output_type": "execute_result"
    }
   ],
   "source": [
    "#Первые 5 записей\n",
    "data.head()"
   ]
  },
  {
   "cell_type": "markdown",
   "id": "5bde4872",
   "metadata": {},
   "source": [
    "#2. К категориальным признакам я бы отнесла 4 следующих признака – идентификатор дистрикта (округа) - столбец DISTRICT_ID, идентификатор категории преступления – столбец OFFENSE_CATEGORY_ID, код конкретного преступления, столбец OFFENSE_CODE, идентификатор участка, столбец PRECINCT_ID.\n"
   ]
  },
  {
   "cell_type": "code",
   "execution_count": null,
   "id": "3a4736c5",
   "metadata": {},
   "outputs": [],
   "source": [
    "#Последние 5 записей\n",
    "data.tail()"
   ]
  },
  {
   "cell_type": "markdown",
   "id": "0ca881cf",
   "metadata": {},
   "source": [
    "#3. Это столбец OFFENSE_CODE, который является столбцом с максимальным количеством уникальных значений категориального признака. Там присутствует 154 различных значений.\n",
    "\n"
   ]
  },
  {
   "cell_type": "markdown",
   "id": "3947340b",
   "metadata": {},
   "source": [
    "#4. В наборе данных Denver Crime Data присутствует 2 бинарных признака: IS_CRIME и IS_TRAFFIC.\n"
   ]
  },
  {
   "cell_type": "markdown",
   "id": "de51a972",
   "metadata": {},
   "source": [
    "#5. Числовыми признаками набора данных являются 12 признаков: incident_id , offense_id, OFFENSE_CODE, OFFENSE_CODE_EXTENSION, GEO_X, GEO_Y, GEO_LON, GEO_LAT, DISTRICT_ID, PRECINCT_ID, IS_CRIME, IS_TRAFFIC.\n"
   ]
  },
  {
   "cell_type": "code",
   "execution_count": null,
   "id": "261dcc37",
   "metadata": {},
   "outputs": [],
   "source": [
    "#Выведем информацию о наборе данных\n",
    "data.info()"
   ]
  },
  {
   "cell_type": "markdown",
   "id": "7807404d",
   "metadata": {},
   "source": [
    "#6. Из таблицы видно, что в следующих 9 признаках есть пропуски: LAST_OCCURRENCE_DATE, INCIDENT_ADDRESS, GEO_X, GEO_Y, GEO_LON, GEO_LAT, DISTRICT_ID, PRECINCT_ID, NEIGHBORHOOD_ID. "
   ]
  },
  {
   "cell_type": "markdown",
   "id": "90c72df4",
   "metadata": {},
   "source": [
    "#7. Опираясь на предыдущую таблицу, посчитаем количество пропусков для каждого признака:\n",
    "LAST_OCCURRENCE_DATE – 303919 пропусков;\n",
    "INCIDENT_ADDRESS – 38901 пропусков;\n",
    "GEO_X – 4179 пропусков;\n",
    "GEO_Y – 4179 пропусков;\n",
    "GEO_LON – 4180 пропусков;\n",
    "GEO_LAT – 4180 пропусков;\n",
    "DISTRICT_ID – 1 пропуск;\n",
    "PRECINCT_ID – 1 пропуск;\n",
    "NEIGHBORHOOD_ID – 1 пропуск.\n"
   ]
  },
  {
   "cell_type": "markdown",
   "id": "0ed6c567",
   "metadata": {},
   "source": [
    "#8. Столбец LAST_OCCURRENCE_DATE имеет наибольшее количество пропусков, всего в этом столбце 303919 пропусков."
   ]
  },
  {
   "cell_type": "code",
   "execution_count": 5,
   "id": "64e6da1a",
   "metadata": {},
   "outputs": [],
   "source": [
    "#удалим строки с отсутствующими значениями\n",
    "data = data.dropna( )\n",
    "#после удаления стало 175634 объектов"
   ]
  },
  {
   "cell_type": "code",
   "execution_count": null,
   "id": "5ff13c7c",
   "metadata": {},
   "outputs": [],
   "source": [
    "#Cтатистический анализ числовых столбцов\n",
    "data.describe()"
   ]
  },
  {
   "cell_type": "code",
   "execution_count": null,
   "id": "1544d501",
   "metadata": {},
   "outputs": [],
   "source": [
    "#Корреляция признаков\n",
    "data.corr()"
   ]
  },
  {
   "cell_type": "code",
   "execution_count": null,
   "id": "a97781cb",
   "metadata": {},
   "outputs": [],
   "source": [
    "#Корреляция признаков на температурной таблице \n",
    "plt.figure(figsize=(12,10), dpi= 70)\n",
    "sns.heatmap(data.corr(), xticklabels=data.corr().columns, yticklabels=data.corr().columns, cmap='RdYlGn', center=0, annot=True)\n",
    "\n",
    "plt.xticks(fontsize=10)\n",
    "plt.yticks(fontsize=10)\n",
    "plt.show()"
   ]
  },
  {
   "cell_type": "markdown",
   "id": "e30b1b92",
   "metadata": {},
   "source": [
    "#13. Выделим достаточно сильные линейные зависимости признаков:\n",
    "•\tЯвно между собой отрицательно коррелируют признаки IS_CRIME и IS_TRAFFIC;\n",
    "•\tТакже отрицательно зависимы между собой GEO_LAT с GEO_X, GEO_Y, GEO_LON, GEO_LAT;\n",
    "•\tПризнаки IS_CRIME и OFFENSE_CODE тоже отрицательно коррелируют друг с другом;\n",
    "•\tСильная положительная линейная зависимость присутствует между incident_id  и offense_id;\n",
    "•\tЕще сильная положительная линейная зависимость присутствует DISTRICT_ID и PRECINCT_ID;\n",
    "•\tТакая же сильная положительная корреляция наблюдается между GEO_X c GEO_Y, GEO_LON, GEO_LAT;\n",
    "•\tЕще положительно зависимы между собой IS_TRAFFIC и OFFENSE_CODE."
   ]
  },
  {
   "cell_type": "code",
   "execution_count": 6,
   "id": "7ddff11d",
   "metadata": {},
   "outputs": [
    {
     "data": {
      "text/plain": [
       "array([[ 0.74410357, -0.39288761, -0.05866451, ...,  0.28746878,\n",
       "         0.08801124, -0.0883064 ],\n",
       "       [ 0.74410357, -0.39288761, -0.01004518, ..., -0.29246975,\n",
       "         0.08801124, -0.0883064 ],\n",
       "       [ 0.74410357, -0.39288761, -0.0427322 , ..., -1.38275419,\n",
       "         0.08801124, -0.0883064 ],\n",
       "       ...,\n",
       "       [-0.13060298, -0.39288761, -0.02754145, ..., -0.87240828,\n",
       "         0.08801124, -0.0883064 ],\n",
       "       [ 0.16341603,  1.37827314,  0.03029995, ..., -0.22287713,\n",
       "         0.08801124, -0.0883064 ],\n",
       "       [ 0.16488612, -0.39288761, -0.04175368, ...,  1.45314523,\n",
       "         0.08801124, -0.0883064 ]])"
      ]
     },
     "execution_count": 6,
     "metadata": {},
     "output_type": "execute_result"
    }
   ],
   "source": [
    "#Нормализация признаков через стандартное отклонение\n",
    "from sklearn.preprocessing import StandardScaler\n",
    "scale_features_std = StandardScaler()\n",
    "features_std = scale_features_std.fit_transform(data[['OFFENSE_CODE', 'OFFENSE_CODE_EXTENSION', 'GEO_X', 'GEO_Y', 'GEO_LON', 'GEO_LAT', 'DISTRICT_ID', 'PRECINCT_ID', 'IS_CRIME', 'IS_TRAFFIC']])\n",
    "features_std"
   ]
  },
  {
   "cell_type": "code",
   "execution_count": null,
   "id": "8818b2b7",
   "metadata": {},
   "outputs": [],
   "source": [
    "#Для вопроса №9. Поищем выбросы, аномальные значения. Буду считать, что значение аномально, если его стандартное отклонение >= 5 по модулю\n",
    "\n",
    "for i in range(0,175634):\n",
    "    for j in range(0,12):\n",
    "        if (features_std[i][j] >= 5) or (features_std[i][j] <= -5):\n",
    "            print(i)\n",
    "            print(j)\n",
    "\n",
    "        "
   ]
  },
  {
   "cell_type": "markdown",
   "id": "51e1a03c",
   "metadata": {},
   "source": [
    "#9. Аномальные значения в достаточном количестве присутствуют в признаках incident_id, offense_id, GEO_X, GEO_Y, GEO_LON, GEO_LAT. "
   ]
  },
  {
   "cell_type": "code",
   "execution_count": null,
   "id": "7b0df3e1",
   "metadata": {},
   "outputs": [],
   "source": [
    "#Для вопроса №10. Пронормируем признаки через стандартное отклонение, и найдём столбец с самым большим средним значением\n",
    "s = 0\n",
    "for i in range(0,12):\n",
    "    for j in range(0,175634):\n",
    "        s += features_std[j][i]\n",
    "    s = s/175634\n",
    "    print(s)\n",
    "    s = 0"
   ]
  },
  {
   "cell_type": "markdown",
   "id": "35eea9be",
   "metadata": {},
   "source": [
    "#10. Столбец с максимальным средним значением после нормировки признаков через стандартное отклонение - IS_CRIME.\n"
   ]
  },
  {
   "cell_type": "code",
   "execution_count": 7,
   "id": "00a2c25f",
   "metadata": {},
   "outputs": [],
   "source": [
    "data = data[['OFFENSE_CODE', 'OFFENSE_CODE_EXTENSION', 'GEO_X', 'GEO_Y', 'GEO_LON', 'GEO_LAT', 'DISTRICT_ID', 'PRECINCT_ID', 'IS_CRIME', 'IS_TRAFFIC']]\n",
    "data[['OFFENSE_CODE', 'OFFENSE_CODE_EXTENSION', 'GEO_X', 'GEO_Y', 'GEO_LON', 'GEO_LAT', 'DISTRICT_ID', 'PRECINCT_ID', 'IS_CRIME', 'IS_TRAFFIC']] = features_std\n",
    "\n",
    "#Выделяем целевую переменную \n",
    "target = data.OFFENSE_CODE\n",
    "train = data.drop(['OFFENSE_CODE'], axis=1)\n"
   ]
  },
  {
   "cell_type": "markdown",
   "id": "df7d5e65",
   "metadata": {},
   "source": [
    "#11.Столбцом с целевым признаком является столбец OFFENSE_CODE, в котором содержится код о конкретном преступлении. \n"
   ]
  },
  {
   "cell_type": "code",
   "execution_count": 63,
   "id": "f53f42d3",
   "metadata": {},
   "outputs": [
    {
     "data": {
      "text/html": [
       "<div>\n",
       "<style scoped>\n",
       "    .dataframe tbody tr th:only-of-type {\n",
       "        vertical-align: middle;\n",
       "    }\n",
       "\n",
       "    .dataframe tbody tr th {\n",
       "        vertical-align: top;\n",
       "    }\n",
       "\n",
       "    .dataframe thead th {\n",
       "        text-align: right;\n",
       "    }\n",
       "</style>\n",
       "<table border=\"1\" class=\"dataframe\">\n",
       "  <thead>\n",
       "    <tr style=\"text-align: right;\">\n",
       "      <th></th>\n",
       "      <th>incident_id</th>\n",
       "      <th>offense_id</th>\n",
       "      <th>OFFENSE_CODE_EXTENSION</th>\n",
       "      <th>GEO_X</th>\n",
       "      <th>GEO_Y</th>\n",
       "      <th>GEO_LON</th>\n",
       "      <th>GEO_LAT</th>\n",
       "      <th>DISTRICT_ID</th>\n",
       "      <th>PRECINCT_ID</th>\n",
       "      <th>IS_CRIME</th>\n",
       "      <th>IS_TRAFFIC</th>\n",
       "    </tr>\n",
       "  </thead>\n",
       "  <tbody>\n",
       "    <tr>\n",
       "      <th>0</th>\n",
       "      <td>0.833407</td>\n",
       "      <td>0.833407</td>\n",
       "      <td>-0.392888</td>\n",
       "      <td>-0.058665</td>\n",
       "      <td>-0.075164</td>\n",
       "      <td>-0.072032</td>\n",
       "      <td>-0.031950</td>\n",
       "      <td>0.329575</td>\n",
       "      <td>0.287469</td>\n",
       "      <td>0.088011</td>\n",
       "      <td>-0.088306</td>\n",
       "    </tr>\n",
       "    <tr>\n",
       "      <th>8</th>\n",
       "      <td>-0.611889</td>\n",
       "      <td>-0.611889</td>\n",
       "      <td>-0.392888</td>\n",
       "      <td>-0.010045</td>\n",
       "      <td>-0.070748</td>\n",
       "      <td>-0.010304</td>\n",
       "      <td>-0.029823</td>\n",
       "      <td>-0.255289</td>\n",
       "      <td>-0.292470</td>\n",
       "      <td>0.088011</td>\n",
       "      <td>-0.088306</td>\n",
       "    </tr>\n",
       "    <tr>\n",
       "      <th>9</th>\n",
       "      <td>-0.611890</td>\n",
       "      <td>-0.611890</td>\n",
       "      <td>-0.392888</td>\n",
       "      <td>-0.042732</td>\n",
       "      <td>-0.026668</td>\n",
       "      <td>-0.051722</td>\n",
       "      <td>-0.001050</td>\n",
       "      <td>-1.425015</td>\n",
       "      <td>-1.382754</td>\n",
       "      <td>0.088011</td>\n",
       "      <td>-0.088306</td>\n",
       "    </tr>\n",
       "    <tr>\n",
       "      <th>10</th>\n",
       "      <td>-0.611890</td>\n",
       "      <td>-0.611890</td>\n",
       "      <td>-0.392888</td>\n",
       "      <td>-0.068020</td>\n",
       "      <td>-0.005855</td>\n",
       "      <td>-0.083796</td>\n",
       "      <td>0.012655</td>\n",
       "      <td>-1.425015</td>\n",
       "      <td>-1.388554</td>\n",
       "      <td>0.088011</td>\n",
       "      <td>-0.088306</td>\n",
       "    </tr>\n",
       "    <tr>\n",
       "      <th>11</th>\n",
       "      <td>-0.611890</td>\n",
       "      <td>-0.611890</td>\n",
       "      <td>-0.392888</td>\n",
       "      <td>-0.022217</td>\n",
       "      <td>0.019956</td>\n",
       "      <td>-0.025589</td>\n",
       "      <td>0.028571</td>\n",
       "      <td>1.499301</td>\n",
       "      <td>1.511139</td>\n",
       "      <td>0.088011</td>\n",
       "      <td>-0.088306</td>\n",
       "    </tr>\n",
       "  </tbody>\n",
       "</table>\n",
       "</div>"
      ],
      "text/plain": [
       "    incident_id  offense_id  OFFENSE_CODE_EXTENSION     GEO_X     GEO_Y  \\\n",
       "0      0.833407    0.833407               -0.392888 -0.058665 -0.075164   \n",
       "8     -0.611889   -0.611889               -0.392888 -0.010045 -0.070748   \n",
       "9     -0.611890   -0.611890               -0.392888 -0.042732 -0.026668   \n",
       "10    -0.611890   -0.611890               -0.392888 -0.068020 -0.005855   \n",
       "11    -0.611890   -0.611890               -0.392888 -0.022217  0.019956   \n",
       "\n",
       "     GEO_LON   GEO_LAT  DISTRICT_ID  PRECINCT_ID  IS_CRIME  IS_TRAFFIC  \n",
       "0  -0.072032 -0.031950     0.329575     0.287469  0.088011   -0.088306  \n",
       "8  -0.010304 -0.029823    -0.255289    -0.292470  0.088011   -0.088306  \n",
       "9  -0.051722 -0.001050    -1.425015    -1.382754  0.088011   -0.088306  \n",
       "10 -0.083796  0.012655    -1.425015    -1.388554  0.088011   -0.088306  \n",
       "11 -0.025589  0.028571     1.499301     1.511139  0.088011   -0.088306  "
      ]
     },
     "execution_count": 63,
     "metadata": {},
     "output_type": "execute_result"
    }
   ],
   "source": [
    "train.head()"
   ]
  },
  {
   "cell_type": "code",
   "execution_count": 8,
   "id": "482a5f6b",
   "metadata": {},
   "outputs": [
    {
     "name": "stdout",
     "output_type": "stream",
     "text": [
      "122943 52691\n"
     ]
    }
   ],
   "source": [
    "#Выделяем тренировочную и тестовую выборки \n",
    "# y - целевая переменная(target)\n",
    "\n",
    "from sklearn.model_selection import train_test_split\n",
    "X_train, X_test, y_train, y_test = train_test_split(train, target, test_size = 0.3, random_state = 42)\n",
    "\n",
    "N_train, _ = X_train.shape \n",
    "N_test,  _ = X_test.shape \n",
    "print (N_train, N_test)"
   ]
  },
  {
   "cell_type": "markdown",
   "id": "d39a4f01",
   "metadata": {},
   "source": [
    "#12. 122943 объектов попадает в тренировочную выборку."
   ]
  },
  {
   "cell_type": "code",
   "execution_count": 9,
   "id": "cf656bad",
   "metadata": {},
   "outputs": [],
   "source": [
    "from sklearn.decomposition import PCA\n",
    "%matplotlib inline\n",
    "import matplotlib.pyplot as plt"
   ]
  },
  {
   "cell_type": "code",
   "execution_count": 10,
   "id": "c2d62473",
   "metadata": {},
   "outputs": [],
   "source": [
    "pca = PCA()\n",
    "pca.fit(X_train)\n",
    "X_pca = pca.transform(X_train)"
   ]
  },
  {
   "cell_type": "code",
   "execution_count": 67,
   "id": "87581584",
   "metadata": {},
   "outputs": [
    {
     "name": "stdout",
     "output_type": "stream",
     "text": [
      "1 component: 37.7% of initial variance\n",
      "0.002 x incident_id + 0.002 x offense_id + 0.000 x OFFENSE_CODE_EXTENSION + 0.502 x GEO_X + 0.496 x GEO_Y + 0.502 x GEO_LON + -0.497 x GEO_LAT + 0.027 x DISTRICT_ID + 0.028 x PRECINCT_ID + 0.001 x IS_CRIME + -0.001 x IS_TRAFFIC\n",
      "2 component: 20.87% of initial variance\n",
      "0.689 x incident_id + 0.689 x offense_id + 0.057 x OFFENSE_CODE_EXTENSION + -0.004 x GEO_X + -0.002 x GEO_Y + -0.004 x GEO_LON + 0.008 x GEO_LAT + 0.106 x DISTRICT_ID + 0.106 x PRECINCT_ID + 0.112 x IS_CRIME + -0.112 x IS_TRAFFIC\n",
      "3 component: 16.69% of initial variance\n",
      "0.055 x incident_id + 0.055 x offense_id + -0.030 x OFFENSE_CODE_EXTENSION + -0.007 x GEO_X + -0.003 x GEO_Y + -0.006 x GEO_LON + 0.018 x GEO_LAT + 0.318 x DISTRICT_ID + 0.317 x PRECINCT_ID + -0.629 x IS_CRIME + 0.629 x IS_TRAFFIC\n",
      "4 component: 16.23% of initial variance\n",
      "0.146 x incident_id + 0.146 x offense_id + -0.019 x OFFENSE_CODE_EXTENSION + 0.013 x GEO_X + 0.014 x GEO_Y + 0.011 x GEO_LON + -0.029 x GEO_LAT + -0.622 x DISTRICT_ID + -0.622 x PRECINCT_ID + -0.302 x IS_CRIME + 0.301 x IS_TRAFFIC\n",
      "5 component: 8.1% of initial variance\n",
      "0.035 x incident_id + 0.035 x offense_id + -0.998 x OFFENSE_CODE_EXTENSION + 0.001 x GEO_X + -0.003 x GEO_Y + 0.001 x GEO_LON + -0.001 x GEO_LAT + 0.008 x DISTRICT_ID + 0.009 x PRECINCT_ID + 0.031 x IS_CRIME + -0.031 x IS_TRAFFIC\n",
      "6 component: 0.35% of initial variance\n",
      "0.002 x incident_id + 0.002 x offense_id + 0.003 x OFFENSE_CODE_EXTENSION + 0.047 x GEO_X + -0.743 x GEO_Y + 0.026 x GEO_LON + -0.666 x GEO_LAT + 0.008 x DISTRICT_ID + 0.012 x PRECINCT_ID + -0.002 x IS_CRIME + 0.003 x IS_TRAFFIC\n",
      "7 component: 0.03% of initial variance\n",
      "-0.000 x incident_id + -0.000 x offense_id + 0.002 x OFFENSE_CODE_EXTENSION + 0.356 x GEO_X + -0.427 x GEO_Y + 0.588 x GEO_LON + 0.526 x GEO_LAT + -0.193 x DISTRICT_ID + 0.177 x PRECINCT_ID + -0.002 x IS_CRIME + -0.001 x IS_TRAFFIC\n",
      "8 component: 0.02% of initial variance\n",
      "0.000 x incident_id + 0.000 x offense_id + 0.000 x OFFENSE_CODE_EXTENSION + 0.001 x GEO_X + -0.001 x GEO_Y + 0.001 x GEO_LON + 0.001 x GEO_LAT + -0.001 x DISTRICT_ID + 0.000 x PRECINCT_ID + 0.707 x IS_CRIME + 0.707 x IS_TRAFFIC\n",
      "9 component: 0.0% of initial variance\n",
      "-0.000 x incident_id + -0.000 x offense_id + 0.000 x OFFENSE_CODE_EXTENSION + -0.098 x GEO_X + 0.118 x GEO_Y + -0.160 x GEO_LON + -0.140 x GEO_LAT + -0.680 x DISTRICT_ID + 0.685 x PRECINCT_ID + -0.000 x IS_CRIME + -0.000 x IS_TRAFFIC\n",
      "10 component: 0.0% of initial variance\n",
      "0.000 x incident_id + 0.000 x offense_id + -0.000 x OFFENSE_CODE_EXTENSION + 0.780 x GEO_X + -0.065 x GEO_Y + -0.613 x GEO_LON + 0.104 x GEO_LAT + -0.001 x DISTRICT_ID + 0.001 x PRECINCT_ID + 0.000 x IS_CRIME + 0.000 x IS_TRAFFIC\n",
      "11 component: 0.0% of initial variance\n",
      "-0.707 x incident_id + 0.707 x offense_id + -0.000 x OFFENSE_CODE_EXTENSION + 0.000 x GEO_X + -0.000 x GEO_Y + -0.000 x GEO_LON + 0.000 x GEO_LAT + 0.000 x DISTRICT_ID + -0.000 x PRECINCT_ID + -0.000 x IS_CRIME + -0.000 x IS_TRAFFIC\n"
     ]
    }
   ],
   "source": [
    "for i, component in enumerate(pca.components_):\n",
    "    print(\"{} component: {}% of initial variance\".format(i + 1, round(100 * pca.explained_variance_ratio_[i], 2)))\n",
    "    print(\" + \".join(\"%.3f x %s\" % (value, name) for value, name in zip(component,train.columns)))"
   ]
  },
  {
   "cell_type": "markdown",
   "id": "c90d00f0",
   "metadata": {},
   "source": [
    "#14. Четырёх признаков хватит для объяснения 90% дисперсии после применения метода PCA."
   ]
  },
  {
   "cell_type": "markdown",
   "id": "d0fa983d",
   "metadata": {},
   "source": [
    "#15. Наибольший вклад в первую компоненту вносит признаки GEO_X,GEO_Y, GEO_LON, GEO_LAT.\n"
   ]
  },
  {
   "cell_type": "code",
   "execution_count": 11,
   "id": "a5a5ba23",
   "metadata": {},
   "outputs": [
    {
     "name": "stderr",
     "output_type": "stream",
     "text": [
      "C:\\Users\\brofr\\anaconda3\\lib\\site-packages\\sklearn\\manifold\\_t_sne.py:780: FutureWarning: The default initialization in TSNE will change from 'random' to 'pca' in 1.2.\n",
      "  warnings.warn(\n"
     ]
    },
    {
     "data": {
      "image/png": "[encoded data removed]",
      "text/plain": [
       "<Figure size 432x288 with 1 Axes>"
      ]
     },
     "metadata": {
      "needs_background": "light"
     },
     "output_type": "display_data"
    }
   ],
   "source": [
    "from sklearn.manifold import TSNE\n",
    "\n",
    "tsne1 = TSNE(learning_rate=200, random_state=13)\n",
    "\n",
    "transformed1 = tsne1.fit_transform(train)\n",
    "\n",
    "x_axist1 = transformed1[:, 0]\n",
    "y_axist1 = transformed1[:, 1]\n",
    "\n",
    "plt.scatter(x_axist1, y_axist1, c=target)\n",
    "plt.show()"
   ]
  },
  {
   "cell_type": "code",
   "execution_count": 70,
   "id": "2af1710e",
   "metadata": {},
   "outputs": [
    {
     "data": {
      "text/plain": [
       "<matplotlib.lines.Line2D at 0x2091a383c40>"
      ]
     },
     "execution_count": 70,
     "metadata": {},
     "output_type": "execute_result"
    },
    {
     "data": {
      "image/png": "[encoded data removed]",
      "text/plain": [
       "<Figure size 720x504 with 1 Axes>"
      ]
     },
     "metadata": {
      "needs_background": "light"
     },
     "output_type": "display_data"
    }
   ],
   "source": [
    "plt.figure(figsize=(10,7))\n",
    "plt.plot(np.cumsum(pca.explained_variance_ratio_), color='k', lw=2)\n",
    "plt.axhline(0.9, c='r')\n",
    "plt.axvline(3.2, c='b')"
   ]
  },
  {
   "cell_type": "code",
   "execution_count": null,
   "id": "ac013ad6",
   "metadata": {},
   "outputs": [],
   "source": []
  },
  {
   "cell_type": "code",
   "execution_count": null,
   "id": "40bbfd96",
   "metadata": {},
   "outputs": [],
   "source": []
  }
 ],
 "metadata": {
  "kernelspec": {
   "display_name": "Python 3 (ipykernel)",
   "language": "python",
   "name": "python3"
  },
  "language_info": {
   "codemirror_mode": {
    "name": "ipython",
    "version": 3
   },
   "file_extension": ".py",
   "mimetype": "text/x-python",
   "name": "python",
   "nbconvert_exporter": "python",
   "pygments_lexer": "ipython3",
   "version": "3.9.12"
  }
 },
 "nbformat": 4,
 "nbformat_minor": 5
}
